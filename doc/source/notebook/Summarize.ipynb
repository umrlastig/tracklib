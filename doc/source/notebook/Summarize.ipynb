{
 "cells": [
  {
   "cell_type": "markdown",
   "id": "63186567",
   "metadata": {},
   "source": [
    "# Summarize GPS information\n",
    "\n",
    "<div class=\"alert alert-block alert-success\">\n",
    "<b>Up to you:</b> To launch this notebook, you have to:<br/>\n",
    "1. Go to tracklib/doc/source/notebook on a console,<br/>\n",
    "2. Start the notebook server from the command line: jupyter notebook,<br/>\n",
    "3. You should see the notebook open in your browser. Open \"Switchbacks\" by clicking on the link.<br/>\n",
    "</div>\n",
    "\n",
    "<p style='padding:8px'>This functionality of tracklib reduce the full dataset of GPS traces into a regular grid of summarized features. In each cell, <i>n</i> aggregated features (such as mean and standard deviation of speeds, number of traces, most frequent bearing ...) are computed to produce a set of raster maps, which may be seen as a single image with <i>n</i> channels.</p>\n",
    "\n",
    "<p style='padding:8px'>These process has been used in works presented in (1).</p>\n",
    "\n",
    "<figure style='text-align:center'>\n",
    "<img src=\"summarize3.png\"  width=\"650\" />\n",
    "<figcaption><br/>Figure 1 : Workflow presented in (1) to produce raster images (5 meter-resolution grid)</figcaption>\n",
    "</figure>\n",
    "\n",
    "<div class=\"alert alert-block alert-info\">\n",
    "<b>Reference:</b><br/>(1) - Y. Méneroux and al. Convolutional Neural Network for Traffic Signal Inference based on GPS Traces. Proceedings of Spatial big data and machine learning in GIScience Workshop'18, August 28-31, 2018, Melbourne, Australia. GIScience.</div>\n",
    "\n"
   ]
  },
  {
   "cell_type": "markdown",
   "id": "bd8f56ee",
   "metadata": {},
   "source": [
    "## Import de la librairie tracklib\n",
    "\n",
    "Il faut importer tracklib si la librairie n'est pas dans le python path"
   ]
  },
  {
   "cell_type": "code",
   "execution_count": 1,
   "id": "36a31ad0",
   "metadata": {},
   "outputs": [],
   "source": [
    "# -*- coding: utf-8 -*-\n",
    "import matplotlib.pyplot as plt\n",
    "import os.path\n",
    "import sys\n",
    "\n",
    "#-------------------------------------------------------\n",
    "# Import de tracklib\n",
    "module_path = os.path.abspath(os.path.join('../../..'))\n",
    "if module_path not in sys.path:\n",
    "    sys.path.append(module_path)"
   ]
  },
  {
   "cell_type": "markdown",
   "id": "5e0cf520",
   "metadata": {},
   "source": [
    "## Chargement du jeu de traces\n",
    "\n",
    "The dataset comprises a set of 11862 GPS traces, located in Mitaka city (16 km2), suburbs of Tokyo (Japan)."
   ]
  },
  {
   "cell_type": "code",
   "execution_count": 2,
   "id": "6d9cf29f",
   "metadata": {},
   "outputs": [
    {
     "name": "stdout",
     "output_type": "stream",
     "text": [
      "Number of tracks: 11872\n"
     ]
    }
   ],
   "source": [
    "from tracklib.io.TrackReader import TrackReader as reader\n",
    "from tracklib.core.GPSTime import GPSTime\n",
    "\n",
    "PATH = '/home/marie-dominique/PROJET/FINI/MITAKA/DATA/mitaka/complet'\n",
    "GPSTime.setReadFormat(\"4Y-2M-2D 2h:2m:2s\")\n",
    "collection = reader.readFromCsvFiles(path=PATH, id_E=2, id_N=3, id_T=1)\n",
    "print ('Number of tracks: ' + str(collection.size()))"
   ]
  },
  {
   "cell_type": "markdown",
   "id": "cd47d2c1",
   "metadata": {},
   "source": [
    "## Sélection des traces sur une zone restreinte de type Rectangle"
   ]
  },
  {
   "cell_type": "code",
   "execution_count": null,
   "id": "fc9a7348",
   "metadata": {},
   "outputs": [],
   "source": [
    "import matplotlib.pyplot as plt\n",
    "\n",
    "from tracklib.core.TrackCollection import TrackCollection\n",
    "from tracklib.core.Track import Track\n",
    "from tracklib.core.Coords import ENUCoords\n",
    "import tracklib.algo.Geometrics as Geometrics\n",
    "from tracklib.algo.Selection import Constraint\n",
    "from tracklib.algo.Selection import TYPE_CUT_AND_SELECT, MODE_INSIDE\n",
    "\n",
    "Xmin = 370250\n",
    "Xmax = 371250\n",
    "Ymin = 3949050\n",
    "Ymax = 3950050\n",
    "\n",
    "ll = ENUCoords(Xmin, Ymin)\n",
    "ur = ENUCoords(Xmax, Ymax)\n",
    "bbox = Geometrics.Rectangle(ll, ur)\n",
    "\n",
    "constraintBBox = Constraint(shape = bbox, mode = MODE_INSIDE, type=TYPE_CUT_AND_SELECT)\n",
    "selections = constraintBBox.select(collection)\n",
    "print ('Number of tracks: ' + str(selections.size()))\n",
    "\n",
    "for track in selections:\n",
    "    if track.size() < 10:\n",
    "        selections.removeTrack(track)\n",
    "selections.plot('k')\n",
    "\n",
    "plt.xlim((Xmin, Xmax))\n",
    "plt.ylim((Ymin, Ymax))\n",
    "plt.show()\n",
    "\n",
    "print ('Number of tracks: ' + str(selections.size()))\n",
    "collection = selections"
   ]
  },
  {
   "cell_type": "markdown",
   "id": "fdd47dc3",
   "metadata": {},
   "source": [
    "## Raster de la moyenne des vitesses et de l'orientation de la plus fréquente par cellule\n",
    "\n",
    "Les AF seront calculées si elles n'ont pas encore été créées\n",
    "\n",
    "Les scripts des deux AF qu'on prend existent déjà dans la librairie, sinon il aurait fallu les écrire"
   ]
  },
  {
   "cell_type": "code",
   "execution_count": null,
   "id": "3ea43d5e",
   "metadata": {},
   "outputs": [],
   "source": [
    "from tracklib.algo import (Analytics, Summarising) \n",
    "\n",
    "# On crée l'AF speed\n",
    "collection.addAnalyticalFeature(Analytics.speed)\n",
    "\n",
    "af_algos = [Analytics.speed, Analytics.orientation]\n",
    "cell_operators = [Summarising.co_avg, Summarising.co_dominant]  \n",
    "\n",
    "marge = 0\n",
    "resolution = (5, 5)\n",
    "raster = Summarising.summarize(collection, af_algos, cell_operators, resolution, marge)"
   ]
  },
  {
   "cell_type": "markdown",
   "id": "55d235d4",
   "metadata": {},
   "source": [
    "## Conversion de la vitesse moyenne en 8-bit grayscale "
   ]
  },
  {
   "cell_type": "code",
   "execution_count": null,
   "id": "ea680386",
   "metadata": {},
   "outputs": [],
   "source": [
    "import tracklib.core.RasterBand as grid\n",
    "\n",
    "# Feature values are converted on a 8-bit grayscale. To differentiate\n",
    "# the value 0 from the absence of data, the minimum threshold taken by the values is 16 (e.g. the\n",
    "# mean of speeds is distributed between 16 and 255).\n",
    "band = raster.bands['speed#co_avg']\n",
    "# band = raster.bands['orientation#co_dominant']\n",
    "for i in range(band.nrow):\n",
    "    for j in range(band.ncol):\n",
    "        val = band.grid[i][j]\n",
    "        if val == grid.NO_DATA_VALUE:\n",
    "            #print (val)\n",
    "            band.grid[i][j] = 0\n",
    "        elif val >= 50:\n",
    "            band.grid[i][j] = 40\n",
    "        else:\n",
    "            band.grid[i][j] = 255 - val / 50 * (255-40)\n"
   ]
  },
  {
   "cell_type": "markdown",
   "id": "6d005cab",
   "metadata": {},
   "source": [
    "## Affichage"
   ]
  },
  {
   "cell_type": "code",
   "execution_count": null,
   "id": "edbd146e",
   "metadata": {},
   "outputs": [],
   "source": [
    "fig = plt.figure(figsize=(14, 7))\n",
    "\n",
    "ax1 = fig.add_subplot(121)\n",
    "raster.plot(Analytics.speed, Summarising.co_avg, \n",
    "                no_data_values = 0, axe = ax1, figure = fig)\n",
    "\n",
    "ax2 = fig.add_subplot(122)\n",
    "raster.plot(Analytics.orientation, Summarising.co_dominant, \n",
    "                no_data_values = -1, axe = ax2, figure = fig)\n"
   ]
  }
 ],
 "metadata": {
  "kernelspec": {
   "display_name": "Python 3 (ipykernel)",
   "language": "python",
   "name": "python3"
  },
  "language_info": {
   "codemirror_mode": {
    "name": "ipython",
    "version": 3
   },
   "file_extension": ".py",
   "mimetype": "text/x-python",
   "name": "python",
   "nbconvert_exporter": "python",
   "pygments_lexer": "ipython3",
   "version": "3.9.7"
  }
 },
 "nbformat": 4,
 "nbformat_minor": 5
}
