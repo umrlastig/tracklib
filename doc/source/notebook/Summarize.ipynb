{
 "cells": [
  {
   "attachments": {},
   "cell_type": "markdown",
   "id": "63186567",
   "metadata": {},
   "source": [
    "# Summarize GPS information\n",
    "\n",
    "<div class=\"alert alert-block alert-success\">\n",
    "<b>Up to you:</b> To launch this notebook, you have to:<br/>\n",
    "1. Go to tracklib/doc/source/notebook on a console,<br/>\n",
    "2. Start the notebook server from the command line: jupyter notebook,<br/>\n",
    "3. You should see the notebook open in your browser. Open \"Switchbacks\" by clicking on the link.<br/>\n",
    "</div>\n",
    "\n",
    "<p>This functionality of tracklib reduce the full dataset of GPS traces into a regular grid of summarized features. In each cell, <i>n</i> aggregated features (such as mean and standard deviation of speeds, number of traces, most frequent bearing ...) are computed to produce a set of raster maps, which may be seen as a single image with <i>n</i> channels. These process has been used in works presented in (1).</p>\n",
    "\n",
    "<figure style='text-align:center'>\n",
    "<img src=\"summarize3.png\"  width=\"650\" />\n",
    "<figcaption><br/>Figure 1 : Workflow presented in (1) to produce raster images (5 meter-resolution grid)</figcaption>\n",
    "</figure>\n",
    "\n",
    "<div class=\"alert alert-block alert-info\">\n",
    "<b>Reference:</b><br/>(1) - Y. Méneroux and al. Convolutional Neural Network for Traffic Signal Inference based on GPS Traces. Proceedings of Spatial big data and machine learning in GIScience Workshop'18, August 28-31, 2018, Melbourne, Australia. GIScience.</div>\n",
    "\n"
   ]
  },
  {
   "cell_type": "markdown",
   "id": "bd8f56ee",
   "metadata": {},
   "source": [
    "## Import de la librairie tracklib"
   ]
  },
  {
   "cell_type": "code",
   "execution_count": 3,
   "id": "36a31ad0",
   "metadata": {},
   "outputs": [],
   "source": [
    "# -*- coding: utf-8 -*-\n",
    "import matplotlib.pyplot as plt\n",
    "import os.path\n",
    "import sys\n",
    "\n",
    "#-------------------------------------------------------\n",
    "# Import de tracklib\n",
    "module_path = os.path.abspath(os.path.join('../../..'))\n",
    "if module_path not in sys.path:\n",
    "    sys.path.append(module_path)"
   ]
  },
  {
   "cell_type": "markdown",
   "id": "5e0cf520",
   "metadata": {},
   "source": [
    "## Chargement des traces"
   ]
  },
  {
   "cell_type": "code",
   "execution_count": 10,
   "id": "6d9cf29f",
   "metadata": {},
   "outputs": [
    {
     "name": "stdout",
     "output_type": "stream",
     "text": [
      "Number of tracks: 600\n"
     ]
    }
   ],
   "source": [
    "import os\n",
    "import time\n",
    "\n",
    "from tracklib.io.TrackReader import TrackReader as reader\n",
    "from tracklib.core.GPSTime import GPSTime\n",
    "\n",
    "PATH = '/home/marie-dominique/PROJET/FINI/MITAKA/DATA/mitaka/extrait/'\n",
    "GPSTime.setReadFormat(\"4Y-2M-2D 2h:2m:2s\")\n",
    "collection = reader.readFromFiles(pathdir=PATH, id_E=2, id_N=3, id_T=1)\n",
    "print ('Number of tracks: ' + str(collection.size()))"
   ]
  },
  {
   "cell_type": "code",
   "execution_count": null,
   "id": "f66f56b1",
   "metadata": {},
   "outputs": [],
   "source": []
  }
 ],
 "metadata": {
  "kernelspec": {
   "display_name": "Python 3 (ipykernel)",
   "language": "python",
   "name": "python3"
  },
  "language_info": {
   "codemirror_mode": {
    "name": "ipython",
    "version": 3
   },
   "file_extension": ".py",
   "mimetype": "text/x-python",
   "name": "python",
   "nbconvert_exporter": "python",
   "pygments_lexer": "ipython3",
   "version": "3.9.7"
  }
 },
 "nbformat": 4,
 "nbformat_minor": 5
}
