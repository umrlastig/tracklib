{
 "cells": [
  {
   "cell_type": "markdown",
   "id": "091fd0f4",
   "metadata": {},
   "source": [
    "# Querying a track with SQL-like commands\n",
    "\n",
    "\n",
    "With ``Tracklib`` it is really easy and convenient to \"query\" a track with SQL-like commands. The output take the type of a n-dimensional array, a new track or quite simply a float value.\n",
    "\n",
    "To query a track, you have to write a text command in a language which strongly similar at SQL, and call the function ``query`` by passing the text as argument.\n",
    "\n",
    "For example, the query below, create a new *track* with only observations whose speed is under 0.5 m/s:\n",
    "\n",
    "<div class=\"alert alert-block alert-success\" style=\"padding-left:4em\">\n",
    "queryTxt  = ' SELECT * WHERE speed < 0.5 '\n",
    "    \n",
    "track2 = track.query(queryTxt)</div>\n",
    "        \n",
    "Note that the syntax is inspired by SQL, but is a little more restrictive."
   ]
  },
  {
   "cell_type": "markdown",
   "id": "9b44cef3",
   "metadata": {},
   "source": [
    "## Let's start by defining our environment\n",
    "\n",
    "1. The first task is only useful for the online notebook, we specify a new value of the PATH environment variable, the directory of *tracklib* library."
   ]
  },
  {
   "cell_type": "code",
   "execution_count": 1,
   "id": "c301c476",
   "metadata": {},
   "outputs": [],
   "source": [
    "import os\n",
    "import sys\n",
    "\n",
    "# Import de tracklib\n",
    "module_path = os.path.abspath(os.path.join('../../..'))\n",
    "if module_path not in sys.path:\n",
    "    sys.path.append(module_path)"
   ]
  },
  {
   "cell_type": "markdown",
   "id": "1d8ae71c",
   "metadata": {},
   "source": [
    "2. Then, let's importing all necessary python library including *Tracklib* :"
   ]
  },
  {
   "cell_type": "code",
   "execution_count": 2,
   "id": "5af602f9",
   "metadata": {},
   "outputs": [
    {
     "name": "stdout",
     "output_type": "stream",
     "text": [
      "code running in a no qgis environment\n",
      "code running in a no qgis environment\n"
     ]
    }
   ],
   "source": [
    "# Import de la librairie tracklib\n",
    "import tracklib as trk\n",
    "\n",
    "# And others \n",
    "import matplotlib.pyplot as plt"
   ]
  },
  {
   "cell_type": "markdown",
   "id": "084c7559",
   "metadata": {},
   "source": [
    "## Loading a track for examples\n",
    "\n",
    "After loading the track, we add 3 analytical features (speed, heading and direction) to filter observation according to these criteria:"
   ]
  },
  {
   "cell_type": "code",
   "execution_count": 3,
   "id": "b75f70a6",
   "metadata": {},
   "outputs": [
    {
     "name": "stdout",
     "output_type": "stream",
     "text": [
      "Warning: no reference point (base) provided for local projection to ENU coordinates. Arbitrarily used: [lon= 2.457019882, lat=48.830705099, hgt= 55.200]\n",
      "-------------------------------------\n",
      "GPS track #activity_5807084803 of user 0:\n",
      "-------------------------------------\n",
      "  Nb of pt(s):   190\n",
      "  Ref sys id   : ENU\n",
      "  Starting at  : 11/11/2020 15:39:54\n",
      "  Ending at    : 11/11/2020 15:52:00\n",
      "  Duration     : 726.000 s\n",
      "  Length       : 2412.144 m\n",
      "-------------------------------------\n",
      "\n",
      "['speed', 'heading', 'orientation']\n"
     ]
    }
   ],
   "source": [
    "# Load a track\n",
    "trk.ObsTime.setReadFormat(\"4Y-2M-2DT2h:2m:2sZ\")\n",
    "tracks = trk.TrackReader.readFromGpx('../../../data/gpx/activity_5807084803.gpx')\n",
    "trace = tracks.getTrack(0)\n",
    "trace.toENUCoords()\n",
    "trace.summary()\n",
    "\n",
    "# Start AF computation\n",
    "trace.addAnalyticalFeature(trk.speed)\n",
    "trace.addAnalyticalFeature(trk.heading)\n",
    "trace.addAnalyticalFeature(trk.orientation)\n",
    "\n",
    "# Display available AFs for the track\n",
    "print (trace.getListAnalyticalFeatures())"
   ]
  },
  {
   "cell_type": "markdown",
   "id": "cd134f9d",
   "metadata": {},
   "source": [
    "## General rules for querying track\n",
    "\n",
    "- The request will be written using SQL-like commands.\n",
    "- Only *SELECT* and *WHERE* clauses are available\n",
    "- SELECT is mandatory and WHERE is optional\n",
    "- Blank space must be used between every other words, symbols and operators\n",
    "- Capital letters must be used for SQL keywords SELECT, WHERE, AND, OR and aggregators \n",
    "\n",
    "**Fields**\n",
    "\n",
    "- All analytical features, x, y, z, t, and timestamp are available as fields\n",
    "- Fields are written without quotes. They must not contain blank spaces\n",
    "- \"t\" is time as integer in seconds since 1970/01/01 00:00:00\n",
    "- \"timestamp\" is ObsTime object\n",
    "\n",
    "**Aggregators**\n",
    "\n",
    "- All unary operators described in Operator.py, except MSE, are available. For now we have: SUM, AVG, VAR, COUNT, MEDIAN, ARGMIN, ARGMAX, MIN, MAX, MAD, RMSE, SEDDEV, ZEROS."
   ]
  },
  {
   "cell_type": "markdown",
   "id": "4cb4186b",
   "metadata": {},
   "source": [
    "##  ``SELECT`` clause\n",
    "\n",
    "Like SQL language, output depends on the select clause. \n",
    "\n",
    "### You get a new ``Track``\n",
    "\n",
    "If SELECT clause is followed by as star, output is a copied track of the original track (with all its AF hopefully)"
   ]
  },
  {
   "cell_type": "code",
   "execution_count": 4,
   "id": "b24cec87",
   "metadata": {},
   "outputs": [
    {
     "name": "stdout",
     "output_type": "stream",
     "text": [
      "-------------------------------------\n",
      "GPS track #0 of user 0:\n",
      "-------------------------------------\n",
      "  Nb of pt(s):   190\n",
      "  Ref sys id   : ENU\n",
      "  Starting at  : 11/11/2020 15:39:54\n",
      "  Ending at    : 11/11/2020 15:52:00\n",
      "  Duration     : 726.000 s\n",
      "  Length       : 2412.144 m\n",
      "-------------------------------------\n",
      "Analytical feature(s):\n",
      " - speed\n",
      " - heading\n",
      " - orientation\n",
      "-------------------------------------\n",
      "\n"
     ]
    }
   ],
   "source": [
    "trace1 = trace.query(\"SELECT *\")\n",
    "trace1.summary()"
   ]
  },
  {
   "cell_type": "markdown",
   "id": "ff116a08",
   "metadata": {},
   "source": [
    "### You get a (p x n)-dimensional array \n",
    "\n",
    "If SELECT clause is followed by a list of AF names like **SELECT f1, f2... fp**, then output is a (p x n)-dimensional array, with p = number of fields queried and n = number of observations selected by the WHERE conditions:\n",
    "\n",
    "OUTPUT[i][j] = f*i* for the j-th observation"
   ]
  },
  {
   "cell_type": "code",
   "execution_count": 5,
   "id": "03428d86",
   "metadata": {},
   "outputs": [
    {
     "name": "stdout",
     "output_type": "stream",
     "text": [
      "Speed for Obs(0): 6.255327113366183 Heading for Obs(0): -0.17391457626112597\n"
     ]
    },
    {
     "data": {
      "text/plain": [
       "Text(0.5, 1.0, 'heading for speed >= 5')"
      ]
     },
     "execution_count": 5,
     "metadata": {},
     "output_type": "execute_result"
    },
    {
     "data": {
      "image/png": "[encoded data removed]",
      "text/plain": [
       "<Figure size 600x200 with 2 Axes>"
      ]
     },
     "metadata": {},
     "output_type": "display_data"
    }
   ],
   "source": [
    "tab = trace.query(\"SELECT speed, heading WHERE speed >= 5\")\n",
    "print ('Speed for Obs(0):', tab[0][0], 'Heading for Obs(0):', tab[1][0])\n",
    "\n",
    "# ======================================================================\n",
    "#    Display a boxplot for all dimension of the result\n",
    "plt.figure(figsize=(6, 2))\n",
    "plt.subplots_adjust(top=1.3, wspace=0.2, hspace=0.2)\n",
    "\n",
    "# Dimension speed\n",
    "ax1 = plt.subplot2grid((1, 2), (0, 0))\n",
    "ax1.boxplot(tab[0])\n",
    "ax1.set_title('speed for speed >= 5')\n",
    "\n",
    "# Dimension heading\n",
    "ax2 = plt.subplot2grid((1, 2), (0, 1))\n",
    "ax2.boxplot(tab[1])\n",
    "ax2.set_title('heading for speed >= 5')"
   ]
  },
  {
   "cell_type": "markdown",
   "id": "96482b0b",
   "metadata": {},
   "source": [
    "### You get a (1-p)-dimensional array\n",
    "\n",
    "If \"SELECT AGG1(f1), AGG2(f2)... AGGp(fp)\", with AGG1, AGG2,.. AGGp, a set of p aggregators, \n",
    "then output is a p-dimensional array, with on value for each aggregator\n",
    "\n",
    "Note that operators take as input only analytical feature names. Therefore, \"SELECT COUNT(*)\" syntax \n",
    "is not allowed and must be replaced equivalently by \"SELECT COUNT(f)\" with any AF name f."
   ]
  },
  {
   "cell_type": "code",
   "execution_count": 6,
   "id": "458ae8b9",
   "metadata": {},
   "outputs": [
    {
     "name": "stdout",
     "output_type": "stream",
     "text": [
      "[14, 3.1897129536707767]\n"
     ]
    }
   ],
   "source": [
    "queryTxt  = \" SELECT COUNT(speed), AVG(speed) \"\n",
    "queryTxt += \" WHERE orientation = 1 \"\n",
    "    \n",
    "values = trace.query(queryTxt)\n",
    "print (values)"
   ]
  },
  {
   "cell_type": "markdown",
   "id": "51b3c66e",
   "metadata": {},
   "source": [
    "### You get a Float value\n",
    "\n",
    "If \"SELECT AGG(f)\", then output is the floating point value returned by the operator."
   ]
  },
  {
   "cell_type": "code",
   "execution_count": 7,
   "id": "0b1549ec",
   "metadata": {},
   "outputs": [
    {
     "name": "stdout",
     "output_type": "stream",
     "text": [
      "3.696302107811199\n"
     ]
    }
   ],
   "source": [
    "value = trace.query(\"SELECT AVG(speed)\")\n",
    "print (value)"
   ]
  },
  {
   "cell_type": "markdown",
   "id": "770129b4",
   "metadata": {},
   "source": [
    "##  ``WHERE`` clause\n",
    "\n",
    "WHERE clause may contain as many conditions as needed, separated by OR/AND key words\n",
    "\n",
    "Parenthesis are not allowed within WHERE clause. Use boolean algebra rules to reformulate query without parenthesis: e.g. A AND (B OR C) = A AND B OR A AND C. Or use successive queries.\n",
    "\n",
    "Each condition must contain exactly 3 parts (separated by blank spaces) in this exact order:\n",
    "\t(1) the name of an analytical feature to test\n",
    "\t(2) a comparison operator among >, <, >=, <=, ==, != and LIKE (with % in str and timestamps)\n",
    "\t(3) a threshold value which is automatically casted to the type of the AF given in (1). Intended types accepted are: integers, floats, strings, boolean and GPSTime. When ObsTime is used as a threshold value, eventhough it may contain 2 parts (date and time), it must not be enclosed within quotes. For boolean, \"1\", \"T\" and \"TRUE\" are considered as logical True, all other values are considered as False. \n",
    "\n",
    "Important: no computation allowed in WHERE conditions. E.g. \"... WHERE z-2 > 10\" not allowed"
   ]
  },
  {
   "cell_type": "code",
   "execution_count": 8,
   "id": "163c6748",
   "metadata": {
    "tags": [
     "nbsphinx-thumbnail"
    ]
   },
   "outputs": [
    {
     "data": {
      "image/png": "[encoded data removed]",
      "text/plain": [
       "<Figure size 600x600 with 1 Axes>"
      ]
     },
     "metadata": {},
     "output_type": "display_data"
    }
   ],
   "source": [
    "query  = \" SELECT * \"\n",
    "query += \" WHERE timestamp >= 2020-11-11 15:39:50 \"  \n",
    "query += \"   AND heading < 0.05 \"\n",
    "query += \"   AND speed >= 5 \"\n",
    "traceRapide = trace.query(query)\n",
    "\n",
    "plt.figure(figsize=(6, 6))\n",
    "trace.plot('ko', pointsize=3, append=True)\n",
    "traceRapide.plotAsMarkers(type=trk.MARKERS_TYPE_SPOT, append=True)\n",
    "\n",
    "plt.xlim([-120, 40])\n",
    "plt.ylim([-110, 90])\n",
    "plt.text(-110, 80, 'SELECT *', size=16)\n",
    "plt.text(-110, 72, 'WHERE timestamp ≥ 2020-11-11 15:40:50', size=16)\n",
    "plt.text(-110, 64, '  AND heading < 0.05 ', size=16)\n",
    "plt.text(-110, 56, '  AND speed ≥ 5', size=16)\n",
    "plt.show()"
   ]
  }
 ],
 "metadata": {
  "celltoolbar": "Tags",
  "kernelspec": {
   "display_name": "Python 3 (ipykernel)",
   "language": "python",
   "name": "python3"
  },
  "language_info": {
   "codemirror_mode": {
    "name": "ipython",
    "version": 3
   },
   "file_extension": ".py",
   "mimetype": "text/x-python",
   "name": "python",
   "nbconvert_exporter": "python",
   "pygments_lexer": "ipython3",
   "version": "3.9.1"
  }
 },
 "nbformat": 4,
 "nbformat_minor": 5
}
