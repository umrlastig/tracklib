{
 "cells": [
  {
   "cell_type": "markdown",
   "id": "3e3f6082",
   "metadata": {},
   "source": [
    "# Simplify a GPS track\n",
    "\n",
    "Reduce the number of observations in track (while preserving time stamps and other information), but in very different ways\n",
    "\n",
    "Tous les outils qui visent globalement à simplifier une trace pour la rendre moins volumineuse ou plus lisible visuellement. La classe comprend donc entre autres les outils de généralisation. "
   ]
  },
  {
   "cell_type": "markdown",
   "id": "94e1b092",
   "metadata": {},
   "source": []
  }
 ],
 "metadata": {
  "kernelspec": {
   "display_name": "Python 3 (ipykernel)",
   "language": "python",
   "name": "python3"
  },
  "language_info": {
   "codemirror_mode": {
    "name": "ipython",
    "version": 3
   },
   "file_extension": ".py",
   "mimetype": "text/x-python",
   "name": "python",
   "nbconvert_exporter": "python",
   "pygments_lexer": "ipython3",
   "version": "3.9.1"
  }
 },
 "nbformat": 4,
 "nbformat_minor": 5
}
