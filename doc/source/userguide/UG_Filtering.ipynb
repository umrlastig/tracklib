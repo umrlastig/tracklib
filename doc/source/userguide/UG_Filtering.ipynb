{
 "cells": [
  {
   "cell_type": "markdown",
   "id": "527523a7",
   "metadata": {},
   "source": [
    "# Smoothing GPS track\n",
    "\n",
    "<br/>\n",
    "<div class=\"alert alert-block alert-warning\" style=\"padding:1em\">\n",
    "<b>Smoothing:</b> this operation consists to modify observation preserving timestamps and without deleting or creating new observations. Smoothing methods are usually local methods and working with a neighborhood (e.g. kernel).</div>\n",
    "\n",
    "In **tracklib**, smoothing approaches available are:\n",
    "\n",
    "* des filtres séquentiels (ou filtres à noyaux), qui travaillent directement dans le domaine spatial ou temporel et avec un noyau local\n",
    "* des filtres dynamiques (qui nécessitent des informations sur la dynamique du mobile) : Kalman et Markov\n",
    "* des filtres statistiques (qui étudient par \"apprentissage\" la distribution des données sur un jeu de données d'exemple. Ici, il y aura Karhunen-Loève (ACP fonctionnelle) qui est au statut de \"TO DO\"\n",
    "* des filtres fréquentiels, qui travaillent dans le domaine spectrale pour modifier la trace. Pour l'instant il y a les passe-bas et passe-haut de Fourier et il y aura les ondelette en \"TO DO\".\n"
   ]
  },
  {
   "cell_type": "code",
   "execution_count": null,
   "id": "536e2f1c",
   "metadata": {},
   "outputs": [],
   "source": []
  }
 ],
 "metadata": {
  "kernelspec": {
   "display_name": "Python 3 (ipykernel)",
   "language": "python",
   "name": "python3"
  },
  "language_info": {
   "codemirror_mode": {
    "name": "ipython",
    "version": 3
   },
   "file_extension": ".py",
   "mimetype": "text/x-python",
   "name": "python",
   "nbconvert_exporter": "python",
   "pygments_lexer": "ipython3",
   "version": "3.9.1"
  }
 },
 "nbformat": 4,
 "nbformat_minor": 5
}
