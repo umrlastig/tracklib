{
 "cells": [
  {
   "cell_type": "markdown",
   "id": "1b63f19c-40d1-4166-b617-e3af8ae31c20",
   "metadata": {},
   "source": [
    "# Trajectory aggregation\n",
    "\n",
    "Sometimes, when you have many real-data trajectories, you want to detect the return trips. This tutorial is going to show how to split and reverse one half of it in order to keep the same directions for all the trajectories. The algorithm is based on the comparison of trajectories: the return point corresponds to the point which divides the trace in two and whose distance between the two is the smallest. In tracklib, the function to do this is:\n",
    "<br/>\n",
    "<div class=\"alert alert-block alert-info\" style=\"padding:1em\">\n",
    "    \n",
    "```python\n",
    "  collection = tkl.splitReturnTripExhaustive(trace)\n",
    "```\n",
    "\n",
    "</div>"
   ]
  },
  {
   "cell_type": "markdown",
   "id": "edf3c01b-451a-4b35-90dd-96d2f8f02695",
   "metadata": {},
   "source": [
    "## As usual, let's start by defining our environment\n",
    "\n",
    "The first task is only useful for the online notebook and import the local tracklib code source. It's not necessary if tracklib is installed from PyPI."
   ]
  },
  {
   "cell_type": "code",
   "execution_count": null,
   "id": "991b6cdf-52a3-43af-975d-55bc24bbf016",
   "metadata": {},
   "outputs": [],
   "source": [
    "import os\n",
    "import sys\n",
    "\n",
    "# Import de tracklib\n",
    "module_path = os.path.abspath(os.path.join('../../../..'))\n",
    "if module_path not in sys.path:\n",
    "    sys.path.append(module_path)"
   ]
  },
  {
   "cell_type": "markdown",
   "id": "00907da4-29ec-49e6-b130-f2cae9865c05",
   "metadata": {},
   "source": [
    "The following two imports are necessary for the tutorial:"
   ]
  },
  {
   "cell_type": "code",
   "execution_count": null,
   "id": "800b9004-320e-481b-8d61-2ef6c0fd14f0",
   "metadata": {},
   "outputs": [],
   "source": [
    "# Matplotlib to create visualizations\n",
    "import matplotlib.pyplot as plt\n",
    "\n",
    "# Import tracklib library\n",
    "import tracklib as tkl"
   ]
  },
  {
   "cell_type": "markdown",
   "id": "9c5151dc-fde1-48d1-b1e3-b35d144616b7",
   "metadata": {},
   "source": [
    "## Loading two tracks"
   ]
  },
  {
   "cell_type": "code",
   "execution_count": null,
   "id": "0e3aee51-a2e7-4fa5-8686-10817fdb1f94",
   "metadata": {},
   "outputs": [],
   "source": []
  }
 ],
 "metadata": {
  "kernelspec": {
   "display_name": "Python 3 (ipykernel)",
   "language": "python",
   "name": "python3"
  },
  "language_info": {
   "codemirror_mode": {
    "name": "ipython",
    "version": 3
   },
   "file_extension": ".py",
   "mimetype": "text/x-python",
   "name": "python",
   "nbconvert_exporter": "python",
   "pygments_lexer": "ipython3",
   "version": "3.10.12"
  }
 },
 "nbformat": 4,
 "nbformat_minor": 5
}
