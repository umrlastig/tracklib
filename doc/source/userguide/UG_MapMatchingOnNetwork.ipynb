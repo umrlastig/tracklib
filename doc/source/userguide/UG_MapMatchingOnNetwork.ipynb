{
 "cells": [
  {
   "cell_type": "markdown",
   "id": "d88f9072",
   "metadata": {
    "editable": true,
    "slideshow": {
     "slide_type": ""
    },
    "tags": []
   },
   "source": [
    "# Map-match a track on a network\n",
    "\n",
    "<div style='text-align:justify'>\n",
    "In the context of the <b>Tracklib</b> library, the map-matching technique aims to relate GPS track observations with edges in a reference network by applying the Hidden Markov Model (HMM) algorithm proposed by Newson and Krumm (2009) [1].\n",
    "<br/>\n",
    "The algorithm, for each point to be map-matched, takes into account both the preceding and succeeding points, thereby ensuring overall trajectory consistency. This approach is particularly well suited for matching tracks on dense networks.\n",
    "<br/>\n",
    "However, it can also be highly valuable in mountain environments. For instance, when two trails run alongside a stream, the algorithm prevents crossings if no infrastructure (such as a bridge) is present.\n",
    "</div>\n",
    "\n",
    "<figure style='text-align:center;padding:1.5em'>\n",
    "<img src=\"mapmatching_process1.png\"  width=\"650\" />\n",
    "<figcaption><br/>Figure 1: Map-matching process of GPS observations to the road network (images adapted from [2])</figcaption>\n",
    "</figure>\n",
    "\n",
    "<div style='text-align:justify'>\n",
    "Figure 1 illustrates: <ul>\n",
    "    <li>on left: the input data (GPS points on a road network), </li>\n",
    "    <li>in the middle: the concept of the map-matching process to a network (using the Viterbi algorithm), </li>\n",
    "    <li>and the resulting output (the geometric projection of the points onto the road segments to which they have been assigned).</li>\n",
    "</ul></div>\n",
    "\n",
    "<br/>\n",
    "\n",
    "In Tracklib, the function to map-match a track on a network is:\n",
    "<div class=\"alert alert-block alert-warning\" style=\"padding:1em\"><b><i style='padding-left:4em'>mapOnNetwork (tracks, network, search_radius)</i></b>\n",
    "</div>\n",
    "With:<ul>\n",
    "<li> tracks (TrackCollection): collection of Tracks</li>\n",
    "<li> network (Network): the road network</li>\n",
    "<li> search_radius (float): the search radius in meter</li>\n",
    "</ul>\n",
    "\n",
    "<br/>\n",
    "\n",
    "Results are stored in Analytical Features (AF) for each track point <i>k</i>:\n",
    "<ul>\n",
    "    <li>trace[\"hmm_inference\", k][0]: geometric projection (*ENUCoords*) </li>\n",
    "    <li>trace[\"hmm_inference\", k][1]: index of the edge onto which the point is projected (*int*), -1 if the point is not map-matched</li>\n",
    "    <li>trace[\"hmm_inference\", k][2]: distance between the map-matched point and the start vertex</li>\n",
    "    <li>trace[\"hmm_inference\", k][3]: distance between the map-matched point and the end vertex</li>\n",
    "    <li>trace[\"obs_noise\", k] (type int)</li>\n",
    "    <li>trace[\"hmm_cost\", k] (type float)</li>\n",
    "</ul>\n",
    "\n",
    "<br/>\n",
    "\n",
    "<div class=\"alert alert-block alert-info\" style='text-align:justify'>\n",
    "    <b>Reference:</b><br/>[1] - Newson, P., & Krumm, J. (2009). <i>Hidden Markov map matching through noise and sparseness.</i> Proceedings of the 17th ACM SIGSPATIAL International Conference on Advances in Geographic Information Systems, GIS ‘09, ACM, New York, NY, USA, pp. 336–343. <a href='https://doi.org/10.1145/1653771.1653818'>https://doi.org/10.1145/1653771.1653818</a><br/>\n",
    "    [2] - Yann Meneroux. Méthodes d'apprentissage statistique pour la détection de la signalisation routière à partir de véhicules traceurs. Technologies Émergeantes [cs.ET]. Université Paris-Est, 2019. Français. ⟨NNT : 2019PESC2061⟩. <a href='https://theses.hal.science/tel-02493936v1/file/TH2019PESC2061.pdf'>PDF</a>\n",
    "</div>"
   ]
  },
  {
   "cell_type": "markdown",
   "id": "06fc9e46",
   "metadata": {},
   "source": [
    "## Let's start by importing tracklib library"
   ]
  },
  {
   "cell_type": "code",
   "execution_count": 1,
   "id": "b0e5059a",
   "metadata": {},
   "outputs": [],
   "source": [
    "import math\n",
    "import matplotlib.pyplot as plt\n",
    "import os\n",
    "import sys\n",
    "\n",
    "#-------------------------------------------------------\n",
    "# 1. [if tracklib is not installed using pip] add tracklib's local path in the python path\n",
    "module_path = os.path.abspath(os.path.join('../../..'))\n",
    "if module_path not in sys.path:\n",
    "    sys.path.append(module_path)\n",
    "\n",
    "# 2. Import\n",
    "import tracklib as trk"
   ]
  },
  {
   "cell_type": "markdown",
   "id": "09ce4248",
   "metadata": {},
   "source": [
    "## Loading GPS points\n",
    "\n",
    "In this tutorial, data points are stored in a csv file. The first line contained header with names of columns:  \n",
    "<div style='margin-left:4em'><i>X,Y,track_fid,track_seg_id,track_seg_point_id,ele,time</i></div>\n",
    "\n",
    "Coordinates is provided in Geographic system reference and separtor caracter is the comma. The time's format is: <i>“4Y/2M/2D 2h:2m:2s”</i>"
   ]
  },
  {
   "cell_type": "code",
   "execution_count": 2,
   "id": "1d5a502f",
   "metadata": {},
   "outputs": [
    {
     "name": "stdout",
     "output_type": "stream",
     "text": [
      "-------------------------------------\n",
      "GPS track #22245 of user 0:\n",
      "-------------------------------------\n",
      "  Nb of pt(s):   52\n",
      "  Ref sys id   : ENU\n",
      "  Starting at  : 12/07/2019 15:42:35\n",
      "  Ending at    : 12/07/2019 16:48:16\n",
      "  Duration     : 3941.000 s\n",
      "  Length       : 1380.857 m\n",
      "-------------------------------------\n",
      "\n"
     ]
    }
   ],
   "source": [
    "# Specify time format\n",
    "trk.ObsTime.setReadFormat(\"4Y/2M/2D 2h:2m:2s\")\n",
    "\n",
    "# local file path\n",
    "trackpath = '../../../data/csv/22245.csv'\n",
    "\n",
    "# Loading GPS points\n",
    "param = trk.TrackFormat({'ext': 'CSV', 'id_E':0, 'id_N':1, 'id_U':2, 'id_T':3, 'srid': \"Geo\", 'header': 1, 'separator': ','})\n",
    "trace = trk.TrackReader.readFromFile(trackpath, param, verbose=False)\n",
    "\n",
    "# Transform geographic coordinates in local projection\n",
    "trace.toENUCoordsIfNeeded()\n",
    "\n",
    "# Point 37 is forced to be outlier, so it will not to be map-matched\n",
    "trace[37].position.setX(trace[37].position.getX() - 45)\n",
    "trace[37].position.setY(trace[37].position.getY() - 15)\n",
    "\n",
    "# Display a little summary of information of the GPS track:\n",
    "trace.summary()"
   ]
  },
  {
   "cell_type": "markdown",
   "id": "1816722c",
   "metadata": {},
   "source": [
    "## Loading the road network\n",
    "\n",
    "Data network are stored in a csv file. The first line contained header with names of columns:  \n",
    "<div style='margin-left:4em'><i>WKT,link_id,source,target,direction</i></div>\n",
    "\n"
   ]
  },
  {
   "cell_type": "code",
   "execution_count": 3,
   "id": "261dcd7a",
   "metadata": {},
   "outputs": [
    {
     "name": "stdout",
     "output_type": "stream",
     "text": [
      "Number of edges =  288\n",
      "Number of nodes =  216\n",
      "Total length of all edges =  19386.544826479814\n"
     ]
    }
   ],
   "source": [
    "netpath = '../../../data/network/network-utgtrack-22245.csv'\n",
    "network = trk.NetworkReader.readFromFile(netpath, formatfile='VTT', verbose=False)\n",
    "\n",
    "# Transform geographic coordinates in local projection\n",
    "network.toENUCoords(trace.base)\n",
    "\n",
    "# Print number of edges and nodes of the network\n",
    "print ('Number of edges = ', len(network.EDGES))\n",
    "print ('Number of nodes = ', len(network.NODES))\n",
    "print ('Total length of all edges = ', network.totalLength())"
   ]
  },
  {
   "cell_type": "markdown",
   "id": "4ebd3da8-9191-4f81-8f35-96aee1d57cd9",
   "metadata": {},
   "source": [
    "## Display GPS points on the road network"
   ]
  },
  {
   "cell_type": "code",
   "execution_count": 4,
   "id": "a3b01d66-16c7-46d5-b4f2-114d0fb2a566",
   "metadata": {},
   "outputs": [
    {
     "data": {
      "image/png": "[encoded data removed]",
      "text/plain": [
       "<Figure size 360x252 with 1 Axes>"
      ]
     },
     "metadata": {
      "needs_background": "light"
     },
     "output_type": "display_data"
    }
   ],
   "source": [
    "plt.figure(figsize = (5, 3.5))\n",
    "\n",
    "trace.plotAsMarkers(append=True, label='raw positions')\n",
    "network.plot('b-', '', '', '', 1.5, plt)\n",
    "\n",
    "plt.xlim([-580, 50]) \n",
    "plt.ylim([-20, 180])\n",
    "plt.legend(loc=7)\n",
    "plt.show()"
   ]
  },
  {
   "cell_type": "markdown",
   "id": "576c2b91",
   "metadata": {},
   "source": [
    "## Prepare and launch the map matching process"
   ]
  },
  {
   "cell_type": "code",
   "execution_count": 5,
   "id": "ecdceac9",
   "metadata": {},
   "outputs": [],
   "source": [
    "si = trk.SpatialIndex(network, verbose=False)\n",
    "network.spatial_index = si\n",
    "\n"
   ]
  },
  {
   "cell_type": "code",
   "execution_count": 6,
   "id": "b173ea65",
   "metadata": {},
   "outputs": [
    {
     "name": "stderr",
     "output_type": "stream",
     "text": [
      "\u001b[38;2;255;0;0m  0%\u001b[39m \u001b[38;2;255;0;0m(0 of 216)\u001b[39m |                        | Elapsed Time: 0:00:00 ETA:  --:--:--"
     ]
    },
    {
     "name": "stdout",
     "output_type": "stream",
     "text": [
      "Map-matching preparation...\n"
     ]
    },
    {
     "name": "stderr",
     "output_type": "stream",
     "text": [
      "\u001b[38;2;0;255;0m100%\u001b[39m \u001b[38;2;0;255;0m(216 of 216)\u001b[39m |######################| Elapsed Time: 0:00:00 Time:  0:00:000000\n"
     ]
    }
   ],
   "source": [
    "# computes all distances between pairs of nodes\n",
    "network.prepare()\n",
    "\n"
   ]
  },
  {
   "cell_type": "code",
   "execution_count": 7,
   "id": "dc22a720",
   "metadata": {},
   "outputs": [
    {
     "name": "stdout",
     "output_type": "stream",
     "text": [
      "Launching Map-matching\n",
      "\n",
      "Few statistics results:\n",
      "    Number of points =  52\n",
      "    Number of map-matched points = 51 (98.08 %)\n",
      "    Number of off-road = 1 (1.92 %)\n",
      "    GPS standard error = 0.2 m\n"
     ]
    }
   ],
   "source": [
    "print ('Launching Map-matching')\n",
    "# Map track on network\n",
    "trk.mapOnNetwork(trace, network, search_radius=25, debug=False)\n",
    "\n",
    "# Few statistics:\n",
    "print ('')\n",
    "print ('Few statistics results:')\n",
    "\n",
    "print ('    Number of points = ', trace.size())\n",
    "# Nombre de points map-matchés:\n",
    "nbmm = 0\n",
    "nbhp = 0\n",
    "cumuldist = 0\n",
    "for k in range(len(trace)):\n",
    "    ide = trace[\"hmm_inference\", k][1]\n",
    "    if ide == -1:\n",
    "        nbhp += 1\n",
    "    else:\n",
    "        nbmm += 1\n",
    "        pmm = trace[\"hmm_inference\", k][0]\n",
    "        pi = trace[k].position\n",
    "        d = pi.distance2DTo(pmm)\n",
    "        cumuldist += d\n",
    "\n",
    "percentMM = (nbmm / trace.size() * 100)\n",
    "print ('    Number of map-matched points = ' + str(nbmm) + ' (' + str(round(percentMM, 2)) + ' %)')\n",
    "percentHP = (nbhp / trace.size() * 100)\n",
    "print ('    Number of off-road = '+ str(nbhp) + ' (' + str(round(percentHP, 2)) + ' %)') \n",
    "\n",
    "# Calcul du RMSE\n",
    "rmse = round(math.sqrt(d/nbmm),2)\n",
    "print ('    GPS standard error = ' + str(rmse) + ' m')\n"
   ]
  },
  {
   "cell_type": "markdown",
   "id": "068b8e7a",
   "metadata": {},
   "source": [
    "## Display results "
   ]
  },
  {
   "cell_type": "code",
   "execution_count": 8,
   "id": "3c91f16c",
   "metadata": {
    "editable": true,
    "slideshow": {
     "slide_type": ""
    },
    "tags": [
     "nbsphinx-thumbnail"
    ]
   },
   "outputs": [
    {
     "data": {
      "text/plain": [
       "<matplotlib.legend.Legend at 0x75669b5c0cd0>"
      ]
     },
     "execution_count": 8,
     "metadata": {},
     "output_type": "execute_result"
    },
    {
     "data": {
      "image/png": "[encoded data removed]",
      "text/plain": [
       "<Figure size 720x504 with 1 Axes>"
      ]
     },
     "metadata": {
      "needs_background": "light"
     },
     "output_type": "display_data"
    }
   ],
   "source": [
    "plt.figure(figsize = (10, 7))\n",
    "\n",
    "xmin = -320\n",
    "xmax = -220 \n",
    "plt.xlim([xmin, xmax]) \n",
    "ymin = 30\n",
    "ymax = 115\n",
    "plt.ylim([ymin, ymax])\n",
    "\n",
    "trace.plotAsMarkers(append=True, label='raw positions')\n",
    "network.plot('b-', '', '', '', 1.5, plt)\n",
    "si.plot(base=False, append=True)\n",
    "\n",
    "for k in range(len(trace)):\n",
    "    xp = trace[k].position.getX()\n",
    "    yp = trace[k].position.getY()\n",
    "    if xp >= xmin and xp <= xmax and yp >= ymin and yp <= 115:\n",
    "        plt.text(xp+2, yp+2, str(k))\n",
    "    \n",
    "    xmm = trace[\"hmm_inference\", k][0].getX()\n",
    "    ymm = trace[\"hmm_inference\", k][0].getY()\n",
    "    plt.plot(xmm, ymm, 'go', markersize=5, label='matched positions' if k == 0 else \"\")\n",
    "    \n",
    "    X = [xp, xmm]\n",
    "    Y = [yp, ymm]\n",
    "    plt.plot(X, Y, \"r--\", linewidth=1.4, label='matching links' if k == 0 else \"\")\n",
    "plt.legend()"
   ]
  },
  {
   "cell_type": "markdown",
   "id": "39cd99c3-5757-4254-bfbb-a74e6e712418",
   "metadata": {},
   "source": [
    "As expected, observation 37 is not map-matched: the index of the edge onto which the point is projected has value *\"-1\""
   ]
  },
  {
   "cell_type": "code",
   "execution_count": 9,
   "id": "80d388c4-5c02-4938-b6d8-4b33a6a36b9b",
   "metadata": {},
   "outputs": [
    {
     "name": "stdout",
     "output_type": "stream",
     "text": [
      "\n",
      "Index of the edge onto which the point is projected:  -1\n",
      "Distance to the raw observation =  0.0\n"
     ]
    }
   ],
   "source": [
    "print ('')\n",
    "print ('Index of the edge onto which the point is projected: ', trace[\"hmm_inference\", 37][1])\n",
    "\n",
    "# Distance to the raw observation is 0\n",
    "p = trace[\"hmm_inference\", 37][0]\n",
    "d = trace[37].position.distance2DTo(p)\n",
    "print ('Distance to the raw observation = ', d)"
   ]
  },
  {
   "cell_type": "markdown",
   "id": "d14d0113-0cb0-4d9c-a496-40455cf79f28",
   "metadata": {},
   "source": [
    "Note that observation 40 is map-matched on a node if the network and not on an edge. "
   ]
  },
  {
   "cell_type": "code",
   "execution_count": 10,
   "id": "6ed8bc41-bcb8-4ca2-b1a3-47982477b4a5",
   "metadata": {},
   "outputs": [
    {
     "name": "stdout",
     "output_type": "stream",
     "text": [
      "\n",
      "Distance between the map-matched point and the start vertex:  0.0  m\n",
      "Distance between the map-matched point and the end vertex:  245.84  m\n"
     ]
    }
   ],
   "source": [
    "print ('')\n",
    "print ('Distance between the map-matched point and the start vertex: ', trace[\"hmm_inference\", 40][2], ' m')\n",
    "print ('Distance between the map-matched point and the end vertex: ', round(trace[\"hmm_inference\", 40][3], 2), ' m')"
   ]
  }
 ],
 "metadata": {
  "celltoolbar": "Tags",
  "kernelspec": {
   "display_name": "Python 3 (ipykernel)",
   "language": "python",
   "name": "python3"
  },
  "language_info": {
   "codemirror_mode": {
    "name": "ipython",
    "version": 3
   },
   "file_extension": ".py",
   "mimetype": "text/x-python",
   "name": "python",
   "nbconvert_exporter": "python",
   "pygments_lexer": "ipython3",
   "version": "3.10.12"
  }
 },
 "nbformat": 4,
 "nbformat_minor": 5
}
