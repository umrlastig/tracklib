{
 "cells": [
  {
   "cell_type": "markdown",
   "id": "9260e5ba",
   "metadata": {},
   "source": [
    "# Operations available on GPS Tracks\n",
    "\n",
    "Our focus on this section concern operations and predicats available on the library."
   ]
  },
  {
   "cell_type": "markdown",
   "id": "e5ccdb54",
   "metadata": {},
   "source": [
    "## Let's start by defining our environment\n",
    "\n",
    "This task is only useful for the online notebook"
   ]
  },
  {
   "cell_type": "code",
   "execution_count": 1,
   "id": "a8f99036",
   "metadata": {},
   "outputs": [
    {
     "name": "stdout",
     "output_type": "stream",
     "text": [
      "code running in a no qgis environment\n",
      "code running in a no qgis environment\n"
     ]
    }
   ],
   "source": [
    "import matplotlib.pyplot as plt\n",
    "import os\n",
    "import sys\n",
    "\n",
    "#-------------------------------------------------------\n",
    "# Import de tracklib\n",
    "\n",
    "module_path = os.path.abspath(os.path.join('../../..'))\n",
    "if module_path not in sys.path:\n",
    "    sys.path.append(module_path)\n",
    "    \n",
    "import tracklib as trk"
   ]
  },
  {
   "cell_type": "markdown",
   "id": "1a909393",
   "metadata": {},
   "source": [
    "## The following operations are available:"
   ]
  },
  {
   "cell_type": "markdown",
   "id": "03c0871c",
   "metadata": {},
   "source": [
    "### arithmetic operators: \n",
    "\n",
    "\"+\" : Concatenation of two tracks\n",
    "\n",
    "\"/\" : Even split of tracks (returns n segments)"
   ]
  },
  {
   "cell_type": "markdown",
   "id": "2df4a0f7",
   "metadata": {},
   "source": [
    "### comparison predicates: \n",
    "\n",
    "\"<\" :\n",
    "    \n",
    "\"<=\" :"
   ]
  }
 ],
 "metadata": {
  "kernelspec": {
   "display_name": "Python 3 (ipykernel)",
   "language": "python",
   "name": "python3"
  },
  "language_info": {
   "codemirror_mode": {
    "name": "ipython",
    "version": 3
   },
   "file_extension": ".py",
   "mimetype": "text/x-python",
   "name": "python",
   "nbconvert_exporter": "python",
   "pygments_lexer": "ipython3",
   "version": "3.9.1"
  }
 },
 "nbformat": 4,
 "nbformat_minor": 5
}
