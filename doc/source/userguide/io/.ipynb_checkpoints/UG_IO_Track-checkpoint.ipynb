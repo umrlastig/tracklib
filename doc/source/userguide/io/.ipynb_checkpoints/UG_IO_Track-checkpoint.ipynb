{
 "cells": [
  {
   "cell_type": "markdown",
   "id": "ca229644-63ec-4119-83a1-d9c85f0172a4",
   "metadata": {},
   "source": [
    "# Load a GPS track from files (wkt, gpx, etc.)\n",
    "\n",
    "Toutes les méthodes sont statiques dans les classes *TrackReader* pour la lecture et *TrackWriter* pour stocker les données dans un fichier.\n"
   ]
  },
  {
   "cell_type": "markdown",
   "id": "4c9ad477-30d7-4494-a109-6e55c7380c19",
   "metadata": {},
   "source": [
    "## Loading track or track collection\n",
    "\n",
    "**tracklib** permet de charger des données GPS depuis un ou plusieurs fichiers de type CSV, GPX\n",
    "et dont les géométries sont sous forme de coordonnées ou au format wkt. Le timestamp, s'il\n",
    "existe peut-être fourni en format texte ou en time unix. Les AF peuvent être ou non chargées.\n",
    "On peut aussi filtrer les données à charger. On peut aussi définir un template.\n"
   ]
  },
  {
   "cell_type": "markdown",
   "id": "088ebf9a-0c68-4dff-a12f-c1d847c4571a",
   "metadata": {},
   "source": [
    "### File or folder, GPX or CSV\n",
    "\n",
    "Arguably the most common type of resource is a file. You specify it using the path to the file.\n",
    "To see all file import options, see :ref:`trackreader` in API Reference. "
   ]
  },
  {
   "cell_type": "markdown",
   "id": "c11d75e2-609b-4b4c-89b4-b77587405a6a",
   "metadata": {},
   "source": [
    "#### Example for a GPX file :"
   ]
  },
  {
   "cell_type": "code",
   "execution_count": 1,
   "id": "a73e5705-0f69-4a90-9e46-aa0144a6fab2",
   "metadata": {},
   "outputs": [
    {
     "ename": "ModuleNotFoundError",
     "evalue": "No module named 'tracklib'",
     "output_type": "error",
     "traceback": [
      "\u001b[0;31m---------------------------------------------------------------------------\u001b[0m",
      "\u001b[0;31mModuleNotFoundError\u001b[0m                       Traceback (most recent call last)",
      "Cell \u001b[0;32mIn[1], line 2\u001b[0m\n\u001b[1;32m      1\u001b[0m \u001b[38;5;28;01mimport\u001b[39;00m \u001b[38;5;21;01mos\u001b[39;00m\n\u001b[0;32m----> 2\u001b[0m \u001b[38;5;28;01mfrom\u001b[39;00m \u001b[38;5;21;01mtracklib\u001b[39;00m\u001b[38;5;21;01m.\u001b[39;00m\u001b[38;5;21;01mcore\u001b[39;00m\u001b[38;5;21;01m.\u001b[39;00m\u001b[38;5;21;01mObsTime\u001b[39;00m \u001b[38;5;28;01mimport\u001b[39;00m ObsTime\n\u001b[1;32m      3\u001b[0m \u001b[38;5;28;01mfrom\u001b[39;00m \u001b[38;5;21;01mtracklib\u001b[39;00m\u001b[38;5;21;01m.\u001b[39;00m\u001b[38;5;21;01mio\u001b[39;00m\u001b[38;5;21;01m.\u001b[39;00m\u001b[38;5;21;01mTrackReader\u001b[39;00m \u001b[38;5;28;01mimport\u001b[39;00m TrackReader\n\u001b[1;32m      5\u001b[0m ObsTime\u001b[38;5;241m.\u001b[39msetReadFormat(\u001b[38;5;124m\"\u001b[39m\u001b[38;5;124m4Y-2M-2DT2h:2m:2sZ\u001b[39m\u001b[38;5;124m\"\u001b[39m)\n",
      "\u001b[0;31mModuleNotFoundError\u001b[0m: No module named 'tracklib'"
     ]
    }
   ],
   "source": [
    "import os\n",
    "from tracklib.core.ObsTime import ObsTime\n",
    "from tracklib.io.TrackReader import TrackReader\n",
    "    \n",
    "ObsTime.setReadFormat(\"4Y-2M-2DT2h:2m:2sZ\")\n",
    "resource_path = '/home/glagaffe/tracklib/data'\n",
    "filepath = os.path.join(resource_path, 'activity_5807084803.gpx')\n",
    "tracks = TrackReader.readFromGpx(filepath)\n",
    "tracks[0].plot()"
   ]
  },
  {
   "cell_type": "markdown",
   "id": "ea34ad44-9501-4d5e-88d3-1b87e7a97de7",
   "metadata": {},
   "source": [
    "#### Example for a CSV file"
   ]
  },
  {
   "cell_type": "code",
   "execution_count": 2,
   "id": "7cdec5e2-f076-4b0a-be9d-9946342369da",
   "metadata": {},
   "outputs": [
    {
     "ename": "IndentationError",
     "evalue": "unexpected indent (3270119642.py, line 2)",
     "output_type": "error",
     "traceback": [
      "\u001b[0;36m  Cell \u001b[0;32mIn[2], line 2\u001b[0;36m\u001b[0m\n\u001b[0;31m    from tracklib.core.ObsTime import ObsTime\u001b[0m\n\u001b[0m    ^\u001b[0m\n\u001b[0;31mIndentationError\u001b[0m\u001b[0;31m:\u001b[0m unexpected indent\n"
     ]
    }
   ],
   "source": [
    "import os\n",
    "    from tracklib.core.ObsTime import ObsTime\n",
    "    from tracklib.io.TrackReader import TrackReader\n",
    "\n",
    "    ObsTime.setReadFormat(\"4Y-2M-2D 2h:2m:2s\")\n",
    "    resource_path = '/home/glagaffe/tracklib/data'\n",
    "    filepath = os.path.join(resource_path, 'trace10_mm.dat')\n",
    "    track = TrackReader.readFromCsv(filepath, 2, 3, -1, 1, h=1)\n",
    "    track.plot()"
   ]
  },
  {
   "cell_type": "markdown",
   "id": "747397e5-6de0-4d0c-ac0c-f63b164cd629",
   "metadata": {},
   "source": [
    "#### Example for a CSV file with a geometry structured in WKT \n",
    "\n",
    "track is associated with a linestring"
   ]
  },
  {
   "cell_type": "code",
   "execution_count": 3,
   "id": "dc4f65ec-7727-4f21-9c83-362e0c496e7a",
   "metadata": {},
   "outputs": [
    {
     "ename": "IndentationError",
     "evalue": "unexpected indent (3822599429.py, line 2)",
     "output_type": "error",
     "traceback": [
      "\u001b[0;36m  Cell \u001b[0;32mIn[3], line 2\u001b[0;36m\u001b[0m\n\u001b[0;31m    from tracklib.core.ObsTime import ObsTime\u001b[0m\n\u001b[0m    ^\u001b[0m\n\u001b[0;31mIndentationError\u001b[0m\u001b[0;31m:\u001b[0m unexpected indent\n"
     ]
    }
   ],
   "source": [
    "import os\n",
    "    from tracklib.core.ObsTime import ObsTime\n",
    "    from tracklib.io.TrackReader import TrackReader\n",
    "\n",
    "    resource_path = '/home/glagaffe/tracklib/data/wkt'\n",
    "    csvpath = os.path.join(resource_path, 'iti.wkt')\n",
    "    TRACES = TrackReader.readFromWkt(csvpath, id_geom=0, \n",
    "                                 separator=\"#\", h=1, doublequote=True)\n",
    "    print (len(TRACES))"
   ]
  },
  {
   "cell_type": "markdown",
   "id": "cb0763bc-1077-47f0-be9c-1ffcd3ab974a",
   "metadata": {},
   "source": [
    "#### If you have a list of CVS files in a folder"
   ]
  },
  {
   "cell_type": "code",
   "execution_count": 4,
   "id": "79b60c5a-d9e8-400c-918d-b2b464ff42c0",
   "metadata": {},
   "outputs": [
    {
     "ename": "IndentationError",
     "evalue": "unexpected indent (1148562163.py, line 2)",
     "output_type": "error",
     "traceback": [
      "\u001b[0;36m  Cell \u001b[0;32mIn[4], line 2\u001b[0;36m\u001b[0m\n\u001b[0;31m    from tracklib.io.TrackReader import TrackReader\u001b[0m\n\u001b[0m    ^\u001b[0m\n\u001b[0;31mIndentationError\u001b[0m\u001b[0;31m:\u001b[0m unexpected indent\n"
     ]
    }
   ],
   "source": [
    "from tracklib.core.ObsTime import ObsTime\n",
    "    from tracklib.io.TrackReader import TrackReader\n",
    "    \n",
    "    ObsTime.setReadFormat(\"2D/2M/4Y 2h:2m:2s\")\n",
    "    resource_path = '/home/glagaffe/tracklib/data/test/csv'\n",
    "    collection = TrackReader.readFromCsv(resource_path, 1, 2, -1, -1)\n",
    "    print (collection.size(), ' CSV tracks loaded')"
   ]
  },
  {
   "cell_type": "markdown",
   "id": "5c26e7ad-a146-4580-9245-03d5abc21bae",
   "metadata": {},
   "source": [
    "#### If you have a list of GPX files in a folder"
   ]
  },
  {
   "cell_type": "code",
   "execution_count": 5,
   "id": "1231bc70-026d-4cac-9213-6177501232c0",
   "metadata": {},
   "outputs": [
    {
     "ename": "IndentationError",
     "evalue": "unexpected indent (1925171546.py, line 2)",
     "output_type": "error",
     "traceback": [
      "\u001b[0;36m  Cell \u001b[0;32mIn[5], line 2\u001b[0;36m\u001b[0m\n\u001b[0;31m    from tracklib.io.TrackReader import TrackReader\u001b[0m\n\u001b[0m    ^\u001b[0m\n\u001b[0;31mIndentationError\u001b[0m\u001b[0;31m:\u001b[0m unexpected indent\n"
     ]
    }
   ],
   "source": [
    "from tracklib.core.ObsTime import ObsTime\n",
    "    from tracklib.io.TrackReader import TrackReader\n",
    "\n",
    "    resource_path = '/home/glagaffe/tracklib/data/gpx/geo'\n",
    "    ObsTime.setReadFormat(\"4Y-2M-2DT2h:2m:2sZ\")\n",
    "    tracks = TrackReader.readFromGpx(resource_path)\n",
    "    print (collection.size(), ' GPX tracks loaded')"
   ]
  },
  {
   "cell_type": "markdown",
   "id": "240e62ce-fea0-4486-8cd8-311b7d6de668",
   "metadata": {},
   "source": [
    "Loading tracks with Analytical Features\n",
    "----------------------------------------\n",
    "\n",
    "If the CVS file contains AF, to load all of them ::\n",
    "\n",
    "    ObsTime.setReadFormat(\"2D/2M/4Y 2h:2m:2s\")\n",
    "    chemin = os.path.join(self.resource_path, 'data/test/ecrins_interpol4.csv')\n",
    "    track = TrackReader.readFromCsv(chemin, 0, 1, 2, 3, separator=\";\",read_all=True)\n",
    "\n",
    "\n",
    "Select tracks inside a defined bounding box\n",
    "--------------------------------------------\n",
    "\n",
    "Load a track collection by specifying and a directory in the variable 'path'.\n",
    "Timestamp is in milliseconds. Select only tracks inside a defined bounding box ::\n",
    "   \n",
    "   \n",
    "    from tracklib.io.TrackReader import TrackReader as reader\n",
    "    from tracklib.core.GPSTime import GPSTime\n",
    "    from tracklib.core.Coords import ENUCoords\n",
    "    import tracklib.algo.Geometrics as Geometrics\n",
    "    from tracklib.algo.Selection import Constraint\n",
    "    from tracklib.algo.Selection import TYPE_CUT_AND_SELECT, MODE_INSIDE\n",
    "    from tracklib.algo.Selection import Selector   \n",
    "   \n",
    "    Xmin = 29.72\n",
    "    Xmax = 29.77\n",
    "    Ymin = 62.585\n",
    "    Ymax = 62.615\n",
    "\n",
    "    ll = ENUCoords(Xmin, Ymin)\n",
    "    ur = ENUCoords(Xmax, Ymax)\n",
    "    bbox = Geometrics.Rectangle(ll, ur)\n",
    "\n",
    "    constraintBBox = Constraint(shape = bbox, mode = MODE_INSIDE, type=TYPE_CUT_AND_SELECT)\n",
    "    s = Selector([constraintBBox])\n",
    "\n",
    "    PATH = '/home/marie-dominique/DATA/GPX/MOPSI/0/'\n",
    "    GPSTime.setReadFormat(\"4Y-2M-2D 2h:2m:2s\")\n",
    "    dateInitiale = '1970-01-01 00:00:00'\n",
    "    collection = reader.readFromCsv(path=PATH, id_E=1, id_N=0, id_T=2, \n",
    "                                    srid=\"GeoCoords\",\n",
    "                                    DateIni = GPSTime.readTimestamp(dateInitiale),\n",
    "                                    selector = s,\n",
    "                                    separator = ' ', verbose = True)\n",
    "\n",
    "\n",
    "Template\n",
    "----------\n",
    "\n",
    "First, it is necessary to define the template in resources/track_file_format ::\n",
    "\n",
    "    RTKLIB    , pos, 2, 1, 3, 0, -1, bb, 1, %, -999999, GEO, 4Y/2M/2D 2h:2m:2s.3z, FALSE\n",
    "\n",
    "\n",
    "Then to load the file ::\n",
    "\n",
    "    resource_path = '/home/glagaffe/tracklib/data/'\n",
    "    csvpath = os.path.join(resource_path, 'raw_gps.pos')\n",
    "    gps = TrackReader.readFromCsv(csvpath, \"RTKLIB\") \n",
    "    print (gps.size())\n",
    "\n"
   ]
  },
  {
   "cell_type": "code",
   "execution_count": null,
   "id": "b146f99c-f0a8-43c6-a3fe-9ac8c82e2076",
   "metadata": {},
   "outputs": [],
   "source": []
  }
 ],
 "metadata": {
  "kernelspec": {
   "display_name": "Python 3 (ipykernel)",
   "language": "python",
   "name": "python3"
  },
  "language_info": {
   "codemirror_mode": {
    "name": "ipython",
    "version": 3
   },
   "file_extension": ".py",
   "mimetype": "text/x-python",
   "name": "python",
   "nbconvert_exporter": "python",
   "pygments_lexer": "ipython3",
   "version": "3.10.12"
  }
 },
 "nbformat": 4,
 "nbformat_minor": 5
}
