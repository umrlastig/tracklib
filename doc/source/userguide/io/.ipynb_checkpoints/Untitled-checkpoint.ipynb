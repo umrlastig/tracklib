{
 "cells": [
  {
   "cell_type": "markdown",
   "id": "bbc19561-c6ac-451a-a164-197b74d2eda1",
   "metadata": {},
   "source": [
    "# Export track or track collection\n",
    "\n",
    "* To export only the basics attributes of a track, position and timestamp ::\n",
    "\n",
    "    csvpath = os.path.join(self.resource_path, 'data/test/test_write_csv_minim.wkt')\n",
    "    TrackWriter.writeToFile(track, csvpath, id_E=0,id_N=1,id_U=2,id_T=3,h=1, separator=\";\")\n",
    "        \n",
    "\n",
    "* To export basic attributes and analytical features ::\n",
    "\n",
    "    csvpath = os.path.join(self.resource_path, 'data/test/test_write_csv_2AF.wkt')\n",
    "    af_names = ['speed', 'abs_curv']\n",
    "    TrackWriter.writeToFile(track, csvpath, id_E=0, id_N=1, id_U=2, id_T=3, h=1, \n",
    "                               separator=\";\", af_names=af_names)\n",
    "\n",
    "\n",
    "* Write one or many tracks in one or many GPX files ::\n",
    "\n",
    "    TrackWriter.writeToGpx(self.collection, path=gpxpath, af=True, oneFile=False)\n",
    "\n",
    "\n",
    "* Write in a KML ::\n",
    "\n",
    "    kmlpath = os.path.join(self.resource_path, 'data/test/couplage.kml')\n",
    "    TrackWriter.writeToKml(trace, path=kmlpath, type=\"LINE\", af='speed')"
   ]
  },
  {
   "cell_type": "code",
   "execution_count": null,
   "id": "5ab31de6-03ac-4263-84c1-caec5076bf68",
   "metadata": {},
   "outputs": [],
   "source": []
  }
 ],
 "metadata": {
  "kernelspec": {
   "display_name": "Python 3 (ipykernel)",
   "language": "python",
   "name": "python3"
  },
  "language_info": {
   "codemirror_mode": {
    "name": "ipython",
    "version": 3
   },
   "file_extension": ".py",
   "mimetype": "text/x-python",
   "name": "python",
   "nbconvert_exporter": "python",
   "pygments_lexer": "ipython3",
   "version": "3.10.12"
  }
 },
 "nbformat": 4,
 "nbformat_minor": 5
}
